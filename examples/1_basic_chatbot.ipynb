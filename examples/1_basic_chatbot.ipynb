{
 "cells": [
  {
   "cell_type": "code",
   "execution_count": 1,
   "metadata": {},
   "outputs": [],
   "source": [
    "from typing import Annotated\n",
    "\n",
    "from typing_extensions import TypedDict\n",
    "\n",
    "from langgraph.graph import StateGraph, START\n",
    "from langgraph.graph.message import add_messages\n",
    "\n",
    "\n",
    "class State(TypedDict):\n",
    "    # Messages have the type \"list\". The `add_messages` function\n",
    "    # in the annotation defines how this state key should be updated\n",
    "    # (in this case, it appends messages to the list, rather than overwriting them)\n",
    "    messages: Annotated[list, add_messages]\n",
    "\n",
    "\n",
    "graph_builder = StateGraph(State)"
   ]
  },
  {
   "cell_type": "code",
   "execution_count": null,
   "metadata": {},
   "outputs": [
    {
     "name": "stderr",
     "output_type": "stream",
     "text": [
      "\u001b[2mUsing Python 3.10.9 environment at: F:\\code\\ai\\langgraph-learn\\.venv\u001b[0m\n",
      "\u001b[2mResolved \u001b[1m39 packages\u001b[0m \u001b[2min 3.24s\u001b[0m\u001b[0m\n",
      "\u001b[2mPrepared \u001b[1m1 package\u001b[0m \u001b[2min 1.07s\u001b[0m\u001b[0m\n",
      "\u001b[2mUninstalled \u001b[1m1 package\u001b[0m \u001b[2min 31ms\u001b[0m\u001b[0m\n",
      "\u001b[1m\u001b[33mwarning\u001b[39m\u001b[0m\u001b[1m:\u001b[0m \u001b[1mFailed to hardlink files; falling back to full copy. This may lead to degraded performance.\n",
      "         If the cache and target directories are on different filesystems, hardlinking may not be supported.\n",
      "         If this is intentional, set `export UV_LINK_MODE=copy` or use `--link-mode=copy` to suppress this warning.\u001b[0m\n",
      "\u001b[2mInstalled \u001b[1m1 package\u001b[0m \u001b[2min 49ms\u001b[0m\u001b[0m\n",
      " \u001b[31m-\u001b[39m \u001b[1mlangsmith\u001b[0m\u001b[2m==0.3.42\u001b[0m\n",
      " \u001b[32m+\u001b[39m \u001b[1mlangsmith\u001b[0m\u001b[2m==0.3.43\u001b[0m\n"
     ]
    }
   ],
   "source": [
    "! uv pip install -U \"langchain[openai]\""
   ]
  },
  {
   "cell_type": "code",
   "execution_count": 3,
   "metadata": {},
   "outputs": [],
   "source": [
    "from langchain_openai import ChatOpenAI\n",
    "import os\n",
    "\n",
    "llm = ChatOpenAI(model=\"qwen-plus-latest\",base_url=\"https://dashscope.aliyuncs.com/compatible-mode/v1\", \n",
    "        api_key=os.getenv(\"DASHSCOPE_API_KEY\"),\n",
    "        temperature=0)"
   ]
  },
  {
   "cell_type": "markdown",
   "metadata": {},
   "source": [
    "## 创建Node\n",
    "Node作为Graph中的工作单元(一个普通的python函数),所以要将llm添加到Node中"
   ]
  },
  {
   "cell_type": "code",
   "execution_count": 5,
   "metadata": {},
   "outputs": [
    {
     "data": {
      "text/plain": [
       "<langgraph.graph.state.StateGraph at 0x2ba29e6c9d0>"
      ]
     },
     "execution_count": 5,
     "metadata": {},
     "output_type": "execute_result"
    }
   ],
   "source": [
    "def chatbot_node(state: State):\n",
    "    return {\"messages\": llm.invoke(state[\"messages\"])}\n",
    "\n",
    "graph_builder.add_node(\"chatbot\", chatbot_node)"
   ]
  },
  {
   "cell_type": "markdown",
   "metadata": {},
   "source": []
  },
  {
   "cell_type": "markdown",
   "metadata": {},
   "source": [
    "## 添加entry point"
   ]
  },
  {
   "cell_type": "code",
   "execution_count": 7,
   "metadata": {},
   "outputs": [
    {
     "data": {
      "text/plain": [
       "<langgraph.graph.state.StateGraph at 0x2ba29e6c9d0>"
      ]
     },
     "execution_count": 7,
     "metadata": {},
     "output_type": "execute_result"
    }
   ],
   "source": [
    "graph_builder.add_edge(START, \"chatbot\")"
   ]
  },
  {
   "cell_type": "markdown",
   "metadata": {},
   "source": [
    "## 编译Graph"
   ]
  },
  {
   "cell_type": "code",
   "execution_count": 8,
   "metadata": {},
   "outputs": [],
   "source": [
    "graph = graph_builder.compile()"
   ]
  },
  {
   "cell_type": "markdown",
   "metadata": {},
   "source": [
    "## 可视化graph\n",
    "您可以使用 get_graph 方法和其中一种“draw”方法（例如 draw_ascii 或 draw_png 来可视化图形。每种 draw 方法都需要额外的依赖项。"
   ]
  },
  {
   "cell_type": "code",
   "execution_count": 9,
   "metadata": {},
   "outputs": [
    {
     "data": {
      "image/png": "[encoded data removed]",
      "text/plain": [
       "<IPython.core.display.Image object>"
      ]
     },
     "metadata": {},
     "output_type": "display_data"
    }
   ],
   "source": [
    "from IPython.display import Image, display\n",
    "\n",
    "try:\n",
    "    display(Image(graph.get_graph().draw_mermaid_png()))\n",
    "except Exception:\n",
    "    # This requires some extra dependencies and is optional\n",
    "    pass"
   ]
  },
  {
   "cell_type": "markdown",
   "metadata": {},
   "source": [
    "## 运行chatbot"
   ]
  },
  {
   "cell_type": "code",
   "execution_count": 12,
   "metadata": {},
   "outputs": [
    {
     "data": {
      "text/plain": [
       "{'messages': [HumanMessage(content='什么是Agent?', additional_kwargs={}, response_metadata={}, id='1e9ddef6-a573-41bf-b7f5-9907e58c1aa4'),\n",
       "  AIMessage(content='\"Agent\" 这个词在不同的领域中有不同的含义，下面是一些常见语境下的解释：\\n\\n---\\n\\n### 1. **人工智能（AI）中的 Agent**\\n在人工智能和计算机科学中，**Agent** 是一个能够感知环境、做出决策并采取行动的实体。它可以是软件程序、机器人或其他形式的智能体。\\n\\n#### 特征：\\n- **感知能力（Perception）**：通过传感器或输入获取环境信息。\\n- **决策能力（Reasoning/Planning）**：根据感知到的信息进行推理、规划。\\n- **行动能力（Action）**：执行动作影响环境。\\n- **目标导向（Goal-oriented）**：为达成某个目标而行为。\\n- **自主性（Autonomy）**：能独立运行，不一定需要人类干预。\\n\\n#### 示例：\\n- 游戏中的 AI 角色\\n- 自动驾驶汽车\\n- 智能助手（如 Siri、Alexa）\\n- 推荐系统\\n\\n---\\n\\n### 2. **分布式系统中的 Agent**\\n在多智能体系统（Multi-Agent Systems, MAS）中，多个 Agent 可以相互协作、通信、竞争或协商来完成任务。\\n\\n#### 应用场景：\\n- 分布式问题求解\\n- 协同机器人\\n- 智能交通系统\\n\\n---\\n\\n### 3. **商业或法律中的 Agent**\\n在商业或法律术语中，**Agent** 指的是“代理人”，代表他人或组织行事的人或实体。\\n\\n#### 示例：\\n- 房地产经纪人作为买家或卖家的代理人\\n- 经纪人代理客户投资\\n- 法律代理人代表当事人出庭\\n\\n---\\n\\n### 4. **市场营销中的 Agent**\\n有时也指分销商、代理商，负责销售产品或服务。\\n\\n---\\n\\n### 5. **化学/医学中的 Agent**\\n在科学领域，如化学或医学中，**agent** 可以指某种作用因子或处理手段。\\n\\n#### 示例：\\n- **Antibiotic agent**：抗生素类药物\\n- **Carcinogenic agent**：致癌物\\n- **Cleaning agent**：清洁剂\\n\\n---\\n\\n### 总结一句话：\\n> **Agent 是一个能够感知环境、具有某种程度自主性并能采取行动的实体，具体定义取决于所处的领域。**\\n\\n如果你有特定的应用场景或领域（比如 AI、编程、商业等），我可以提供更详细的解释。', additional_kwargs={'refusal': None}, response_metadata={'token_usage': {'completion_tokens': 500, 'prompt_tokens': 15, 'total_tokens': 515, 'completion_tokens_details': None, 'prompt_tokens_details': None}, 'model_name': 'qwen-plus-latest', 'system_fingerprint': None, 'id': 'chatcmpl-28301f7c-b1f5-9ef4-865e-845b0ef44aed', 'service_tier': None, 'finish_reason': 'stop', 'logprobs': None}, id='run--6d3d94c5-df83-488f-8670-5429df66b416-0', usage_metadata={'input_tokens': 15, 'output_tokens': 500, 'total_tokens': 515, 'input_token_details': {}, 'output_token_details': {}})]}"
      ]
     },
     "execution_count": 12,
     "metadata": {},
     "output_type": "execute_result"
    }
   ],
   "source": [
    "graph.invoke({\"messages\": [{\"role\": \"user\", \"content\": \"什么是Agent?\"}]})"
   ]
  },
  {
   "cell_type": "code",
   "execution_count": null,
   "metadata": {},
   "outputs": [],
   "source": []
  }
 ],
 "metadata": {
  "kernelspec": {
   "display_name": ".venv",
   "language": "python",
   "name": "python3"
  },
  "language_info": {
   "codemirror_mode": {
    "name": "ipython",
    "version": 3
   },
   "file_extension": ".py",
   "mimetype": "text/x-python",
   "name": "python",
   "nbconvert_exporter": "python",
   "pygments_lexer": "ipython3",
   "version": "3.10.9"
  }
 },
 "nbformat": 4,
 "nbformat_minor": 2
}
