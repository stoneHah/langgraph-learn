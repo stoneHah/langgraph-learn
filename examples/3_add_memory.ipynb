{
 "cells": [
  {
   "cell_type": "code",
   "execution_count": 1,
   "metadata": {},
   "outputs": [
    {
     "name": "stderr",
     "output_type": "stream",
     "text": [
      "\u001b[2mUsing Python 3.10.9 environment at: F:\\code\\ai\\langgraph-learn\\.venv\u001b[0m\n",
      "\u001b[2mResolved \u001b[1m43 packages\u001b[0m \u001b[2min 1.86s\u001b[0m\u001b[0m\n",
      "\u001b[2mAudited \u001b[1m43 packages\u001b[0m \u001b[2min 0.19ms\u001b[0m\u001b[0m\n"
     ]
    }
   ],
   "source": [
    "! uv pip install -U langchain-tavily"
   ]
  },
  {
   "cell_type": "code",
   "execution_count": 2,
   "metadata": {},
   "outputs": [
    {
     "data": {
      "text/plain": [
       "True"
      ]
     },
     "execution_count": 2,
     "metadata": {},
     "output_type": "execute_result"
    }
   ],
   "source": [
    "from dotenv import load_dotenv\n",
    "load_dotenv()\n"
   ]
  },
  {
   "cell_type": "markdown",
   "metadata": {},
   "source": [
    "## 定义Tool"
   ]
  },
  {
   "cell_type": "code",
   "execution_count": 3,
   "metadata": {},
   "outputs": [
    {
     "data": {
      "text/plain": [
       "{'query': \"What's a 'node' in LangGraph?\",\n",
       " 'follow_up_questions': None,\n",
       " 'answer': None,\n",
       " 'images': [],\n",
       " 'results': [{'title': 'LangGraph Basics: Understanding State, Schema, Nodes, and Edges',\n",
       "   'url': 'https://medium.com/@vivekvjnk/langgraph-basics-understanding-state-schema-nodes-and-edges-77f2fd17cae5',\n",
       "   'content': 'LangGraph Basics: Understanding State, Schema, Nodes, and Edges | by Story_Teller | Medium LangGraph Basics: Understanding State, Schema, Nodes, and Edges LangGraph Basics: Understanding State, Schema, Nodes, and Edges These predefined structures in the messaging app are synonymous with the schema of the state in LangGraph. Just as a messaging app ensures all interactions (messages) follow a consistent format, the schema in LangGraph ensures the state passed along edges is structured and interpretable. This static schema allows nodes to rely on a consistent state format, ensuring seamless communication along edges throughout the graph. In this article, we explored the foundational concepts of graph-based systems, drawing parallels to familiar messaging applications to illustrate how edges, nodes, and state transitions function seamlessly in dynamic workflows.',\n",
       "   'score': 0.6501347,\n",
       "   'raw_content': None},\n",
       "  {'title': 'LangGraph Tutorial: What Is LangGraph and How to Use It?',\n",
       "   'url': 'https://www.datacamp.com/tutorial/langgraph-tutorial',\n",
       "   'content': 'LangGraph is a library within the LangChain ecosystem that provides a framework for defining, coordinating, and executing multiple LLM agents (or chains) in a structured and efficient manner. By managing the flow of data and the sequence of operations, LangGraph allows developers to focus on the high-level logic of their applications rather than the intricacies of agent coordination. Whether you need a chatbot that can handle various types of user requests or a multi-agent system that performs complex tasks, LangGraph provides the tools to build exactly what you need. LangGraph significantly simplifies the development of complex LLM applications by providing a structured framework for managing state and coordinating agent interactions.',\n",
       "   'score': 0.5008063,\n",
       "   'raw_content': None}],\n",
       " 'response_time': 1.47}"
      ]
     },
     "execution_count": 3,
     "metadata": {},
     "output_type": "execute_result"
    }
   ],
   "source": [
    "from langchain_tavily import TavilySearch\n",
    "\n",
    "tool = TavilySearch(max_results=2)\n",
    "tools = [tool]\n",
    "tool.invoke(\"What's a 'node' in LangGraph?\")"
   ]
  },
  {
   "cell_type": "markdown",
   "metadata": {},
   "source": [
    "## 定义Graph"
   ]
  },
  {
   "cell_type": "code",
   "execution_count": 4,
   "metadata": {},
   "outputs": [],
   "source": [
    "from typing import Annotated\n",
    "\n",
    "from typing_extensions import TypedDict\n",
    "\n",
    "from langgraph.graph import StateGraph, START\n",
    "from langgraph.graph.message import add_messages\n",
    "\n",
    "\n",
    "class State(TypedDict):\n",
    "    # Messages have the type \"list\". The `add_messages` function\n",
    "    # in the annotation defines how this state key should be updated\n",
    "    # (in this case, it appends messages to the list, rather than overwriting them)\n",
    "    messages: Annotated[list, add_messages]\n",
    "\n",
    "\n",
    "graph_builder = StateGraph(State)"
   ]
  },
  {
   "cell_type": "code",
   "execution_count": 5,
   "metadata": {},
   "outputs": [
    {
     "name": "stderr",
     "output_type": "stream",
     "text": [
      "\u001b[2mUsing Python 3.10.9 environment at: F:\\code\\ai\\langgraph-learn\\.venv\u001b[0m\n",
      "\u001b[2mResolved \u001b[1m39 packages\u001b[0m \u001b[2min 1.76s\u001b[0m\u001b[0m\n",
      "\u001b[2mAudited \u001b[1m39 packages\u001b[0m \u001b[2min 0.22ms\u001b[0m\u001b[0m\n"
     ]
    }
   ],
   "source": [
    "! uv pip install -U \"langchain[openai]\""
   ]
  },
  {
   "cell_type": "markdown",
   "metadata": {},
   "source": [
    "### llm绑定tools\n",
    "这一步是让llm知道有哪些工具可以使用"
   ]
  },
  {
   "cell_type": "code",
   "execution_count": 6,
   "metadata": {},
   "outputs": [],
   "source": [
    "from langchain_openai import ChatOpenAI\n",
    "import os\n",
    "\n",
    "llm = ChatOpenAI(model=\"qwen-plus-latest\",base_url=\"https://dashscope.aliyuncs.com/compatible-mode/v1\", \n",
    "        api_key=os.getenv(\"DASHSCOPE_API_KEY\"),\n",
    "        temperature=0)\n",
    "\n",
    "llm_with_tools = llm.bind_tools(tools)"
   ]
  },
  {
   "cell_type": "code",
   "execution_count": 7,
   "metadata": {},
   "outputs": [
    {
     "data": {
      "text/plain": [
       "<langgraph.graph.state.StateGraph at 0x228a37ace50>"
      ]
     },
     "execution_count": 7,
     "metadata": {},
     "output_type": "execute_result"
    }
   ],
   "source": [
    "def chatbot_node(state: State):\n",
    "    return {\"messages\": llm_with_tools.invoke(state[\"messages\"])}\n",
    "\n",
    "graph_builder.add_node(\"chatbot\", chatbot_node)"
   ]
  },
  {
   "cell_type": "markdown",
   "metadata": {},
   "source": [
    "## 创建tool函数\n",
    "graph中的运行单元都是一个node，以函数的形式存在，tool也不例外,所以要创建一个函数来运行这个tool。\n",
    "为此langgraph的prebuilt包下封装了一个ToolNode"
   ]
  },
  {
   "cell_type": "code",
   "execution_count": 8,
   "metadata": {},
   "outputs": [
    {
     "data": {
      "text/plain": [
       "<langgraph.graph.state.StateGraph at 0x228a37ace50>"
      ]
     },
     "execution_count": 8,
     "metadata": {},
     "output_type": "execute_result"
    }
   ],
   "source": [
    "from langgraph.prebuilt import ToolNode\n",
    "\n",
    "graph_builder.add_node(\"tools\", ToolNode(tools=[tool]))"
   ]
  },
  {
   "cell_type": "markdown",
   "metadata": {},
   "source": [
    "## 创建MemorySaver checkpointer"
   ]
  },
  {
   "cell_type": "code",
   "execution_count": 9,
   "metadata": {},
   "outputs": [],
   "source": [
    "from langgraph.graph import END\n",
    "from langgraph.prebuilt import tools_condition\n",
    "from langgraph.checkpoint.memory import MemorySaver\n",
    "\n",
    "graph_builder.add_conditional_edges(\n",
    "    \"chatbot\",\n",
    "    tools_condition,\n",
    ")\n",
    "graph_builder.add_edge(\"tools\", \"chatbot\")\n",
    "graph_builder.add_edge(START, \"chatbot\")\n",
    "\n",
    "memory = MemorySaver()\n",
    "graph = graph_builder.compile(checkpointer=memory)"
   ]
  },
  {
   "cell_type": "markdown",
   "metadata": {},
   "source": []
  },
  {
   "cell_type": "markdown",
   "metadata": {},
   "source": [
    "## 可视化graph\n",
    "您可以使用 get_graph 方法和其中一种“draw”方法（例如 draw_ascii 或 draw_png 来可视化图形。每种 draw 方法都需要额外的依赖项。"
   ]
  },
  {
   "cell_type": "code",
   "execution_count": 10,
   "metadata": {},
   "outputs": [
    {
     "data": {
      "image/png": "[encoded data removed]",
      "text/plain": [
       "<IPython.core.display.Image object>"
      ]
     },
     "metadata": {},
     "output_type": "display_data"
    }
   ],
   "source": [
    "from IPython.display import Image, display\n",
    "\n",
    "try:\n",
    "    display(Image(graph.get_graph().draw_mermaid_png()))\n",
    "except Exception:\n",
    "    # This requires some extra dependencies and is optional\n",
    "    pass"
   ]
  },
  {
   "cell_type": "markdown",
   "metadata": {},
   "source": [
    "## 运行chatbot"
   ]
  },
  {
   "cell_type": "code",
   "execution_count": 21,
   "metadata": {},
   "outputs": [],
   "source": [
    "config = {\n",
    "    \"configurable\": {\n",
    "        \"thread_id\": \"2\",\n",
    "    }\n",
    "}"
   ]
  },
  {
   "cell_type": "code",
   "execution_count": 22,
   "metadata": {},
   "outputs": [],
   "source": [
    "def stream_graph_updates(user_input: str):\n",
    "    for event in graph.stream(\n",
    "        {\"messages\": [{\"role\": \"user\", \"content\": user_input}]},\n",
    "        config=config,\n",
    "        stream_mode=\"values\",\n",
    "    ):\n",
    "        messages = event[\"messages\"]\n",
    "        print(messages[-1].content if isinstance(messages, list) else messages.content)"
   ]
  },
  {
   "cell_type": "code",
   "execution_count": 23,
   "metadata": {},
   "outputs": [
    {
     "name": "stdout",
     "output_type": "stream",
     "text": [
      "最新有哪些AI相关的新闻？\n",
      "\n",
      "{\"query\": \"最新AI相关新闻\", \"follow_up_questions\": null, \"answer\": null, \"images\": [], \"results\": [{\"url\": \"https://techxplore.com/news/2025-05-vision-mimic-human-precision.html\", \"title\": \"Self-trained vision transformers mimic human gaze with surprising precision - Tech Xplore\", \"score\": 0.62879556, \"published_date\": \"Mon, 26 May 2025 16:58:35 GMT\", \"content\": \"##### AI model pinpoints sources of driver stress, paving the way for smart driving assistants 2 hours ago ##### Tool automatically separates training and test data to improve AI evaluation 2 hours ago ##### Dark LLMs: It's still easy to trick most AI chatbots into providing harmful information, study finds 2 hours ago ##### Engineered interface layer extends life and enhances safety of next-generation lithium-metal batteries 3 hours ago ##### Exploring the seas with self-powered jellyfish cyborgs 4 hours ago ##### Golden Dome: An aerospace engineer explains the proposed nationwide missile defense system May 24, 2025 ##### AI may soon account for half of data center power use if trends persist May 24, 2025 ##### Verification framework uncovers safety lapses in open-source self-driving system May 23, 2025 ##### A new approach could fractionate crude oil using much less energy May 22, 2025 ##### Geometric adjustment helps boost efficiency and durability of perovskite photovoltaic cells May 22, 2025\"}, {\"url\": \"https://www.rcrwireless.com/20250522/enterprise/dell-nvidia-ai-enterprise\", \"title\": \"Dell and Nvidia intro rush of AI hardware, software, and managed services - RCR Wireless News\", \"score\": 0.542161, \"published_date\": \"Thu, 22 May 2025 12:53:20 GMT\", \"content\": \"Dell has launched new high-end servers featuring top Nvidia GPUs for enterprise AI workloads, bundled in an ‘AI Factory’ package with software, networking, and managed support – all aimed at accelerating AI adoption and driving sales. New servers – a bunch of new high-end Dell servers integrate top-line Nvidia GPUs for enterprise cloud and edge AI workloads. Dell and Nvidia have deepened their AI dealings with the introduction of new AI server hardware, integrated AI software, and fully managed AI services – all geared to enterprises, deploying AI across edge and cloud setups. The new Dell Managed Services for the Dell AI Factory with Nvidia simplify AI operations with management of the full Nvidia AI solutions stack — including AI platforms, infrastructure and Nvidia AI Enterprise software.\"}], \"response_time\": 0.37}\n",
      "以下是最近与AI相关的新闻摘要：\n",
      "\n",
      "1. **Self-trained vision transformers mimic human gaze with surprising precision**\n",
      "   - **日期**: 2025年5月26日\n",
      "   - **来源**: Tech Xplore\n",
      "   - **内容**: 报道了AI模型在模仿人类视觉注意力方面的最新进展，同时提到多个其他AI相关研究动态：\n",
      "     - AI模型可以精准识别驾驶员压力源，为智能驾驶助手铺路。\n",
      "     - 新工具自动分离训练和测试数据以改进AI评估。\n",
      "     - 研究发现“黑暗LLM”依然容易欺骗多数AI聊天机器人提供有害信息。\n",
      "\n",
      "2. **Dell and Nvidia intro rush of AI hardware, software, and managed services**\n",
      "   - **日期**: 2025年5月22日\n",
      "   - **来源**: RCR Wireless News\n",
      "   - **内容**: 戴尔（Dell）和英伟达（Nvidia）推出了面向企业的新一代AI硬件、软件及托管服务。戴尔推出配备顶级Nvidia GPU的高端服务器，并整合成名为“Ai Factory”的一揽子解决方案，包括软件、网络和管理支持，旨在加速AI应用并推动销售。\n",
      "\n",
      "如果需要更多详细信息或具体文章内容，请告诉我！\n"
     ]
    }
   ],
   "source": [
    "stream_graph_updates(\"最新有哪些AI相关的新闻？\")"
   ]
  },
  {
   "cell_type": "code",
   "execution_count": 20,
   "metadata": {},
   "outputs": [
    {
     "name": "stdout",
     "output_type": "stream",
     "text": [
      "编写一个简单的示例demo\n",
      "\n",
      "{\"query\": \"LangGraph 示例代码\", \"follow_up_questions\": null, \"answer\": null, \"images\": [], \"results\": [{\"url\": \"https://blog.csdn.net/happyweb/article/details/138366645\", \"title\": \"简单的LangGraph示例原创 - CSDN博客\", \"content\": \"简单的LangGraph示例\\n\\n在学习智能体，然后又接触到LangGraph，参照文档尝试了一个简单的LangGraph demo。\\n\\n一、环境准备：\\n\\n二、代码：\\n\\n关于状态机、节点、边、有向无环图等概念可以去参照相关文档，在这里就不赘述了。\\n\\n上面代码添加了2个节点，其分别为agent和action，还添加了1个条件边。\\n\\n三、解释一下几个函数：\\n\\n3.1. add_node(key,action)：\\n\\n添加节点。节点是要做处理的。         key 是节点的名字，后面会根据这个名字去确定这个节点的。         action是一个函数或者一个LCEL runnable，这个函数或者 LCEL runnable 应该接收一个和状态对象一样的字典作为输入，         其输出也是以状态对象中的属性为key的一个字典，从而更新状态对象中对应的值。\\n\\n\\n\\n3.2. add_edge(start_key, end_key) [...] 在两个节点之间添加边(连线)，从前往后         start_key 开始节点的名字         end_key   结束节点的名字     3.3. add_conditional_edges(source, path, path_map=None, then=None)\\n\\n添加条件边         source (str) – 开始节点名         path (Union[Callable, Runnable]) – 决定下一个节点的回调函数         path_map (Optional[dict[str, str]], default: None ) – 映射下一个节点的字典.         then (Optional[str], default: None ) – 执行完选择的节点后的下一个节点名      3.4. set_entry_point(key)\\n\\n设置开始节点，图将从这个节点开始运行\", \"score\": 0.8657814, \"raw_content\": null}, {\"url\": \"https://www.cnblogs.com/muzinan110/p/18539969\", \"title\": \"LangGraph入门：核心概念与基础组件- muzinan110 - 博客园\", \"content\": \"复制代码. 实战示例：简单聊天机器人. 让我们通过一个简单的聊天机器人示例来展示LangGraph的基本用法: 复制代码. from typing import List, Dict, Tuple\", \"score\": 0.76972175, \"raw_content\": null}], \"response_time\": 3.25}\n",
      "以下是基于 LangGraph 的一个简单示例，演示了如何构建一个包含两个节点的图：一个用于处理用户输入的代理节点和一个用于执行操作的工具节点。该示例展示了如何定义状态、添加节点、设置边以及运行流程。\n",
      "\n",
      "### 示例代码\n",
      "\n",
      "```python\n",
      "from langgraph.graph import StateGraph, END\n",
      "\n",
      "# 定义状态类\n",
      "class State:\n",
      "    def __init__(self, message: str = \"\", result: str = \"\"):\n",
      "        self.message = message  # 用户输入的消息\n",
      "        self.result = result    # 处理后的结果\n",
      "\n",
      "# 定义代理节点函数\n",
      "def agent(state: State) -> State:\n",
      "    print(\"Agent收到消息:\", state.message)\n",
      "    state.result = f\"处理消息: {state.message}\"\n",
      "    return state\n",
      "\n",
      "# 定义工具节点函数\n",
      "def action(state: State) -> State:\n",
      "    print(\"Action执行操作\")\n",
      "    state.result += \" -> 已执行操作\"\n",
      "    return state\n",
      "\n",
      "# 创建状态图\n",
      "workflow = StateGraph(State)\n",
      "\n",
      "# 添加节点\n",
      "workflow.add_node(\"agent\", agent)   # 添加代理节点\n",
      "workflow.add_node(\"action\", action) # 添加工具节点\n",
      "\n",
      "# 添加边\n",
      "workflow.add_edge(\"agent\", \"action\")  # 从代理节点到工具节点\n",
      "workflow.add_edge(\"action\", END)      # 从工具节点到结束\n",
      "\n",
      "# 设置入口点\n",
      "workflow.set_entry_point(\"agent\")\n",
      "\n",
      "# 编译并运行工作流\n",
      "app = workflow.compile()\n",
      "\n",
      "# 运行工作流\n",
      "initial_state = State(message=\"Hello, LangGraph!\")\n",
      "final_state = app.run(initial_state)\n",
      "\n",
      "# 输出最终结果\n",
      "print(\"最终结果:\", final_state.result)\n",
      "```\n",
      "\n",
      "### 代码解释\n",
      "\n",
      "1. **状态类 (`State`)**：\n",
      "   - `message`：存储用户输入的消息。\n",
      "   - `result`：存储处理后的结果。\n",
      "\n",
      "2. **代理节点 (`agent`)**：\n",
      "   - 接收用户输入的消息，并对其进行初步处理，生成中间结果。\n",
      "\n",
      "3. **工具节点 (`action`)**：\n",
      "   - 对代理节点生成的结果进行进一步处理，模拟执行某种操作。\n",
      "\n",
      "4. **图结构**：\n",
      "   - 使用 `StateGraph` 创建图结构。\n",
      "   - 添加两个节点：`agent` 和 `action`。\n",
      "   - 使用 `add_edge` 定义节点之间的流转关系。\n",
      "   - 设置入口点为 `agent`，表示流程从代理节点开始。\n",
      "\n",
      "5. **运行工作流**：\n",
      "   - 初始化状态对象，传入用户输入的消息。\n",
      "   - 调用 `app.run()` 执行整个工作流。\n",
      "   - 最终输出处理结果。\n",
      "\n",
      "### 输出示例\n",
      "\n",
      "```\n",
      "Agent收到消息: Hello, LangGraph!\n",
      "Action执行操作\n",
      "最终结果: 处理消息: Hello, LangGraph! -> 已执行操作\n",
      "```\n",
      "\n",
      "这个简单的示例展示了如何使用 LangGraph 构建一个基本的工作流，适用于需要多步骤处理的任务。你可以根据需求扩展更多的节点和逻辑，实现更复杂的应用程序。\n"
     ]
    }
   ],
   "source": [
    "stream_graph_updates(\"编写一个简单的示例demo\")"
   ]
  },
  {
   "cell_type": "code",
   "execution_count": null,
   "metadata": {},
   "outputs": [],
   "source": []
  }
 ],
 "metadata": {
  "kernelspec": {
   "display_name": ".venv",
   "language": "python",
   "name": "python3"
  },
  "language_info": {
   "codemirror_mode": {
    "name": "ipython",
    "version": 3
   },
   "file_extension": ".py",
   "mimetype": "text/x-python",
   "name": "python",
   "nbconvert_exporter": "python",
   "pygments_lexer": "ipython3",
   "version": "3.10.9"
  }
 },
 "nbformat": 4,
 "nbformat_minor": 2
}
