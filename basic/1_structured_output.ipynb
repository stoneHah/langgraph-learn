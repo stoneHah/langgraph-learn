{
 "cells": [
  {
   "cell_type": "markdown",
   "id": "ae84160c",
   "metadata": {},
   "source": [
    "## 结构化输出\n",
    "\n",
    "很多场景我们需要llm进行结构化的输出，比如json格式，这对于系统进行解析和处理非常有用。\n",
    "\n",
    "\n",
    "\n"
   ]
  },
  {
   "cell_type": "code",
   "execution_count": 1,
   "id": "dc08cf6a",
   "metadata": {},
   "outputs": [
    {
     "ename": "ModuleNotFoundError",
     "evalue": "No module named 'langchain_openai'",
     "output_type": "error",
     "traceback": [
      "\u001b[31m---------------------------------------------------------------------------\u001b[39m",
      "\u001b[31mModuleNotFoundError\u001b[39m                       Traceback (most recent call last)",
      "\u001b[36mCell\u001b[39m\u001b[36m \u001b[39m\u001b[32mIn[1]\u001b[39m\u001b[32m, line 4\u001b[39m\n\u001b[32m      2\u001b[39m \u001b[38;5;28;01mimport\u001b[39;00m\u001b[38;5;250m \u001b[39m\u001b[34;01mos\u001b[39;00m\n\u001b[32m      3\u001b[39m \u001b[38;5;28;01mfrom\u001b[39;00m\u001b[38;5;250m \u001b[39m\u001b[34;01mlangchain_anthropic\u001b[39;00m\u001b[38;5;250m \u001b[39m\u001b[38;5;28;01mimport\u001b[39;00m ChatAnthropic\n\u001b[32m----> \u001b[39m\u001b[32m4\u001b[39m \u001b[38;5;28;01mfrom\u001b[39;00m\u001b[38;5;250m \u001b[39m\u001b[34;01mlangchain_openai\u001b[39;00m\u001b[38;5;250m \u001b[39m\u001b[38;5;28;01mimport\u001b[39;00m ChatOpenAI\n\u001b[32m      6\u001b[39m load_dotenv()\n\u001b[32m      7\u001b[39m \u001b[38;5;66;03m# llm = ChatAnthropic(model=\"claude-3-5-sonnet-latest\",\u001b[39;00m\n\u001b[32m      8\u001b[39m \u001b[38;5;66;03m#         base_url=\"https://aihubmix.com\",\u001b[39;00m\n\u001b[32m      9\u001b[39m \u001b[38;5;66;03m#         api_key=os.getenv(\"ANTHROPIC_API_KEY\"))\u001b[39;00m\n",
      "\u001b[31mModuleNotFoundError\u001b[39m: No module named 'langchain_openai'"
     ]
    }
   ],
   "source": [
    "from dotenv import load_dotenv\n",
    "import os\n",
    "from langchain_anthropic import ChatAnthropic\n",
    "from langchain_openai import ChatOpenAI\n",
    "\n",
    "load_dotenv()\n",
    "# llm = ChatAnthropic(model=\"claude-3-5-sonnet-latest\",\n",
    "#         base_url=\"https://aihubmix.com\",\n",
    "#         api_key=os.getenv(\"ANTHROPIC_API_KEY\"))\n",
    "\n",
    "llm = ChatOpenAI(model=\"qwen-plus-latest\",base_url=\"https://dashscope.aliyuncs.com/compatible-mode/v1\", \n",
    "        api_key=os.getenv(\"DASHSCOPE_API_KEY\"),\n",
    "        temperature=0)"
   ]
  },
  {
   "cell_type": "code",
   "execution_count": null,
   "id": "47a28a5d",
   "metadata": {},
   "outputs": [],
   "source": [
    "from pydantic import BaseModel, Field\n",
    "\n",
    "class Route(BaseModel):\n",
    "    step: Literal[\"joke\", \"story\", \"poem\"] = Field(default=None, description=\"The next step in the routing process\")\n",
    "\n",
    "llm.with_structured_output(MyStructuredOutput)\n",
    "\n",
    "\n"
   ]
  },
  {
   "cell_type": "code",
   "execution_count": null,
   "id": "3078ad9e",
   "metadata": {},
   "outputs": [],
   "source": []
  },
  {
   "cell_type": "code",
   "execution_count": null,
   "id": "705106c6",
   "metadata": {},
   "outputs": [],
   "source": []
  },
  {
   "cell_type": "code",
   "execution_count": null,
   "id": "a7768e82",
   "metadata": {},
   "outputs": [],
   "source": []
  },
  {
   "cell_type": "code",
   "execution_count": null,
   "id": "e27756cf",
   "metadata": {},
   "outputs": [],
   "source": []
  },
  {
   "cell_type": "code",
   "execution_count": null,
   "id": "59f8805c",
   "metadata": {},
   "outputs": [],
   "source": []
  },
  {
   "cell_type": "code",
   "execution_count": null,
   "id": "9c868f04",
   "metadata": {},
   "outputs": [],
   "source": []
  }
 ],
 "metadata": {
  "kernelspec": {
   "display_name": ".venv",
   "language": "python",
   "name": "python3"
  },
  "language_info": {
   "codemirror_mode": {
    "name": "ipython",
    "version": 3
   },
   "file_extension": ".py",
   "mimetype": "text/x-python",
   "name": "python",
   "nbconvert_exporter": "python",
   "pygments_lexer": "ipython3",
   "version": "3.11.5"
  }
 },
 "nbformat": 4,
 "nbformat_minor": 5
}
